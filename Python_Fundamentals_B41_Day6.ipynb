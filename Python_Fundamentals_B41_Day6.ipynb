{
 "cells": [
  {
   "cell_type": "code",
   "execution_count": null,
   "metadata": {},
   "outputs": [],
   "source": [
    "Continuation with lists:"
   ]
  },
  {
   "cell_type": "code",
   "execution_count": null,
   "metadata": {},
   "outputs": [],
   "source": []
  },
  {
   "cell_type": "code",
   "execution_count": 1,
   "metadata": {},
   "outputs": [],
   "source": [
    "students=['ramesh','naveed','zaheer','priyanka','udit','imran','shafia']"
   ]
  },
  {
   "cell_type": "code",
   "execution_count": 2,
   "metadata": {},
   "outputs": [
    {
     "name": "stdout",
     "output_type": "stream",
     "text": [
      "['ramesh', 'naveed', 'zaheer', 'priyanka', 'udit', 'imran', 'shafia']\n"
     ]
    }
   ],
   "source": [
    "print(students)"
   ]
  },
  {
   "cell_type": "code",
   "execution_count": 3,
   "metadata": {},
   "outputs": [
    {
     "data": {
      "text/plain": [
       "list"
      ]
     },
     "execution_count": 3,
     "metadata": {},
     "output_type": "execute_result"
    }
   ],
   "source": [
    "type(students)"
   ]
  },
  {
   "cell_type": "code",
   "execution_count": null,
   "metadata": {},
   "outputs": [],
   "source": []
  },
  {
   "cell_type": "code",
   "execution_count": null,
   "metadata": {},
   "outputs": [],
   "source": [
    "#Req: I want to appriciate the above students for joining the session regularly and on time"
   ]
  },
  {
   "cell_type": "code",
   "execution_count": null,
   "metadata": {},
   "outputs": [],
   "source": []
  },
  {
   "cell_type": "code",
   "execution_count": 4,
   "metadata": {},
   "outputs": [
    {
     "name": "stdout",
     "output_type": "stream",
     "text": [
      "Keep up the good work,ramesh\n"
     ]
    }
   ],
   "source": [
    "print(f\"Keep up the good work,{students[0]}\")"
   ]
  },
  {
   "cell_type": "code",
   "execution_count": 5,
   "metadata": {},
   "outputs": [
    {
     "name": "stdout",
     "output_type": "stream",
     "text": [
      "Keep up the good work,zaheer\n"
     ]
    }
   ],
   "source": [
    "print(f\"Keep up the good work,{students[2]}\")"
   ]
  },
  {
   "cell_type": "code",
   "execution_count": 10,
   "metadata": {},
   "outputs": [
    {
     "name": "stdout",
     "output_type": "stream",
     "text": [
      "Keep up the good work,Ramesh\n"
     ]
    }
   ],
   "source": [
    "print(f\"Keep up the good work,{students[0].title()}\")"
   ]
  },
  {
   "cell_type": "code",
   "execution_count": null,
   "metadata": {},
   "outputs": [],
   "source": []
  },
  {
   "cell_type": "code",
   "execution_count": null,
   "metadata": {},
   "outputs": [],
   "source": [
    "#Introduction to for loops:"
   ]
  },
  {
   "cell_type": "code",
   "execution_count": null,
   "metadata": {},
   "outputs": [],
   "source": [
    "    #General Syntax"
   ]
  },
  {
   "cell_type": "code",
   "execution_count": null,
   "metadata": {},
   "outputs": [],
   "source": [
    "for tempvar in mainvar:\n",
    "    print(tempvar)   #indentation"
   ]
  },
  {
   "cell_type": "code",
   "execution_count": null,
   "metadata": {},
   "outputs": [],
   "source": []
  },
  {
   "cell_type": "code",
   "execution_count": null,
   "metadata": {},
   "outputs": [],
   "source": [
    "#Req: I want to appriciate all the students in single Go"
   ]
  },
  {
   "cell_type": "code",
   "execution_count": 12,
   "metadata": {},
   "outputs": [
    {
     "name": "stdout",
     "output_type": "stream",
     "text": [
      "Keep up the good work,ramesh\n",
      "Keep up the good work,naveed\n",
      "Keep up the good work,zaheer\n",
      "Keep up the good work,priyanka\n",
      "Keep up the good work,udit\n",
      "Keep up the good work,imran\n",
      "Keep up the good work,shafia\n"
     ]
    }
   ],
   "source": [
    "for x in students:\n",
    "    print(f\"Keep up the good work,{x}\")\n",
    "    "
   ]
  },
  {
   "cell_type": "code",
   "execution_count": 14,
   "metadata": {},
   "outputs": [
    {
     "name": "stdout",
     "output_type": "stream",
     "text": [
      "Keep up the good work, Ramesh\n",
      "Keep up the good work, Naveed\n",
      "Keep up the good work, Zaheer\n",
      "Keep up the good work, Priyanka\n",
      "Keep up the good work, Udit\n",
      "Keep up the good work, Imran\n",
      "Keep up the good work, Shafia\n"
     ]
    }
   ],
   "source": [
    "for x in students:\n",
    "    print(f\"Keep up the good work, {x.title()}\")"
   ]
  },
  {
   "cell_type": "code",
   "execution_count": null,
   "metadata": {},
   "outputs": [],
   "source": []
  },
  {
   "cell_type": "code",
   "execution_count": null,
   "metadata": {},
   "outputs": [],
   "source": [
    "#Req: I Wanto tell them tat i will be looking forward of todays practice files as well"
   ]
  },
  {
   "cell_type": "code",
   "execution_count": 15,
   "metadata": {},
   "outputs": [
    {
     "name": "stdout",
     "output_type": "stream",
     "text": [
      "Keep up the good work, Ramesh\n",
      "I Will be looking for to receive your practice files,Ramesh\n",
      "Keep up the good work, Naveed\n",
      "I Will be looking for to receive your practice files,Naveed\n",
      "Keep up the good work, Zaheer\n",
      "I Will be looking for to receive your practice files,Zaheer\n",
      "Keep up the good work, Priyanka\n",
      "I Will be looking for to receive your practice files,Priyanka\n",
      "Keep up the good work, Udit\n",
      "I Will be looking for to receive your practice files,Udit\n",
      "Keep up the good work, Imran\n",
      "I Will be looking for to receive your practice files,Imran\n",
      "Keep up the good work, Shafia\n",
      "I Will be looking for to receive your practice files,Shafia\n"
     ]
    }
   ],
   "source": [
    "for test in students:\n",
    "    print(f\"Keep up the good work, {test.title()}\")\n",
    "    print(f\"I Will be looking for to receive your practice files,{test.title()}\") # Writing inside loop"
   ]
  },
  {
   "cell_type": "code",
   "execution_count": null,
   "metadata": {},
   "outputs": [],
   "source": [
    "#Improving the code"
   ]
  },
  {
   "cell_type": "code",
   "execution_count": 17,
   "metadata": {},
   "outputs": [
    {
     "name": "stdout",
     "output_type": "stream",
     "text": [
      "Keep up the good work, Ramesh\n",
      "I Will be looking for to receive your practice files,Ramesh.\n",
      "\n",
      "Keep up the good work, Naveed\n",
      "I Will be looking for to receive your practice files,Naveed.\n",
      "\n",
      "Keep up the good work, Zaheer\n",
      "I Will be looking for to receive your practice files,Zaheer.\n",
      "\n",
      "Keep up the good work, Priyanka\n",
      "I Will be looking for to receive your practice files,Priyanka.\n",
      "\n",
      "Keep up the good work, Udit\n",
      "I Will be looking for to receive your practice files,Udit.\n",
      "\n",
      "Keep up the good work, Imran\n",
      "I Will be looking for to receive your practice files,Imran.\n",
      "\n",
      "Keep up the good work, Shafia\n",
      "I Will be looking for to receive your practice files,Shafia.\n",
      "\n"
     ]
    }
   ],
   "source": [
    "for test in students:\n",
    "    print(f\"Keep up the good work, {test.title()}\")\n",
    "    print(f\"I Will be looking for to receive your practice files,{test.title()}.\\n\")"
   ]
  },
  {
   "cell_type": "code",
   "execution_count": 19,
   "metadata": {},
   "outputs": [
    {
     "name": "stdout",
     "output_type": "stream",
     "text": [
      "Keep up the good work, Ramesh\n",
      "I Will be looking for to receive your practice files,Ramesh.\n",
      "\n",
      "Keep up the good work, Naveed\n",
      "I Will be looking for to receive your practice files,Naveed.\n",
      "\n",
      "Keep up the good work, Zaheer\n",
      "I Will be looking for to receive your practice files,Zaheer.\n",
      "\n",
      "Keep up the good work, Priyanka\n",
      "I Will be looking for to receive your practice files,Priyanka.\n",
      "\n",
      "Keep up the good work, Udit\n",
      "I Will be looking for to receive your practice files,Udit.\n",
      "\n",
      "Keep up the good work, Imran\n",
      "I Will be looking for to receive your practice files,Imran.\n",
      "\n",
      "Keep up the good work, Shafia\n",
      "I Will be looking for to receive your practice files,Shafia.\n",
      "\n",
      "Thank you all for the joining the python session\n"
     ]
    }
   ],
   "source": [
    "for test in students:\n",
    "    print(f\"Keep up the good work, {test.title()}\")\n",
    "    print(f\"I Will be looking for to receive your practice files,{test.title()}.\\n\")\n",
    "print(\"Thank you all for the joining the python session\")    # Writing out of the loop"
   ]
  },
  {
   "cell_type": "code",
   "execution_count": null,
   "metadata": {},
   "outputs": [],
   "source": []
  },
  {
   "cell_type": "code",
   "execution_count": null,
   "metadata": {},
   "outputs": [],
   "source": [
    "# Implementation of range function:\n",
    "     #General Syntax:\n",
    "        range(startvalue,stopvalue,stepcount)"
   ]
  },
  {
   "cell_type": "code",
   "execution_count": null,
   "metadata": {},
   "outputs": [],
   "source": [
    "#Req: I want to print the number till 20"
   ]
  },
  {
   "cell_type": "code",
   "execution_count": 20,
   "metadata": {},
   "outputs": [
    {
     "name": "stdout",
     "output_type": "stream",
     "text": [
      "[1, 2, 3, 4, 5, 6, 7, 8, 9, 10, 11, 12, 13, 14, 15, 16, 17, 18, 19]\n"
     ]
    }
   ],
   "source": [
    "numbers=list(range(1,20))     #Last Number always exclusive\n",
    "print(numbers)"
   ]
  },
  {
   "cell_type": "code",
   "execution_count": null,
   "metadata": {},
   "outputs": [],
   "source": []
  },
  {
   "cell_type": "code",
   "execution_count": null,
   "metadata": {},
   "outputs": [],
   "source": [
    "#I want to print even numbers till 30 by using list"
   ]
  },
  {
   "cell_type": "code",
   "execution_count": 23,
   "metadata": {},
   "outputs": [
    {
     "name": "stdout",
     "output_type": "stream",
     "text": [
      "[2, 4, 6, 8, 10, 12, 14, 16, 18, 20, 22, 24, 26, 28]\n"
     ]
    }
   ],
   "source": [
    "even_numbers=list(range(2,30,2))\n",
    "print(even_numbers)"
   ]
  },
  {
   "cell_type": "code",
   "execution_count": null,
   "metadata": {},
   "outputs": [],
   "source": []
  }
 ],
 "metadata": {
  "kernelspec": {
   "display_name": "Python 3",
   "language": "python",
   "name": "python3"
  },
  "language_info": {
   "codemirror_mode": {
    "name": "ipython",
    "version": 3
   },
   "file_extension": ".py",
   "mimetype": "text/x-python",
   "name": "python",
   "nbconvert_exporter": "python",
   "pygments_lexer": "ipython3",
   "version": "3.8.5"
  }
 },
 "nbformat": 4,
 "nbformat_minor": 4
}
